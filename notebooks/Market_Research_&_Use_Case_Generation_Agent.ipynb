{
 "cells": [
  {
   "cell_type": "markdown",
   "id": "x7Ao1tGDahS6",
   "metadata": {
    "id": "x7Ao1tGDahS6"
   },
   "source": [
    "# **Load OpenAI and Tavily Search API Keys**"
   ]
  },
  {
   "cell_type": "code",
   "execution_count": null,
   "id": "3b8c4874",
   "metadata": {},
   "outputs": [],
   "source": [
    "from dotenv import load_dotenv\n",
    "import os\n",
    "\n",
    "load_dotenv()\n",
    "\n",
    "openai_api_key = os.getenv(\"OPENAI_API_KEY\")\n",
    "tavily_api_key = os.getenv(\"TAVILY_API_KEY\")"
   ]
  },
  {
   "cell_type": "markdown",
   "id": "C7L6vd-Iasc0",
   "metadata": {
    "id": "C7L6vd-Iasc0"
   },
   "source": [
    "# **Import Required Libraries**"
   ]
  },
  {
   "cell_type": "code",
   "execution_count": null,
   "id": "rWKRAsco9Crt",
   "metadata": {
    "id": "rWKRAsco9Crt"
   },
   "outputs": [],
   "source": [
    "from typing import Annotated, Sequence, TypedDict, Literal, Union, List, Tuple, Dict\n",
    "from langchain_community.tools.tavily_search import TavilySearchResults\n",
    "from langchain_core.tools import tool\n",
    "from langchain_core.messages import BaseMessage, ToolMessage, AIMessage, HumanMessage\n",
    "from langchain_openai import ChatOpenAI\n",
    "from langchain_core.prompts import ChatPromptTemplate, MessagesPlaceholder\n",
    "from langgraph.prebuilt import ToolNode\n",
    "from langgraph.graph import END, StateGraph\n",
    "import operator"
   ]
  },
  {
   "cell_type": "markdown",
   "id": "1lBG73Duayey",
   "metadata": {
    "id": "1lBG73Duayey"
   },
   "source": [
    "# **Create Tools**"
   ]
  },
  {
   "cell_type": "code",
   "execution_count": null,
   "id": "2834509e-4ae9-4a37-a15b-93ab9262dc6a",
   "metadata": {
    "id": "2834509e-4ae9-4a37-a15b-93ab9262dc6a"
   },
   "outputs": [],
   "source": [
    "tv_search = TavilySearchResults(max_results=5, search_depth='advanced', max_tokens=10000)\n",
    "\n",
    "@tool\n",
    "def kaggle_dataset_search(query: str) -> str:\n",
    "    \"\"\"Search for relevant datasets on Kaggle\"\"\"\n",
    "    # Using Tavily to search Kaggle specifically\n",
    "    return tv_search.invoke(f\"site:kaggle.com datasets {query}\")\n",
    "\n",
    "@tool\n",
    "def huggingface_search(query: str) -> str:\n",
    "    \"\"\"Search for relevant datasets on HuggingFace\"\"\"\n",
    "    # Using Tavily to search HuggingFace specifically\n",
    "    return tv_search.invoke(f\"site:huggingface.co {query}\")\n",
    "\n",
    "@tool\n",
    "def github_search(query: str) -> str:\n",
    "    \"\"\"Search for relevant repositories on GitHub\"\"\"\n",
    "    # Using Tavily to search GitHub specifically\n",
    "    return tv_search.invoke(f\"site:github.com {query}\")"
   ]
  },
  {
   "cell_type": "markdown",
   "id": "TsFu7Qt4a3vA",
   "metadata": {
    "id": "TsFu7Qt4a3vA"
   },
   "source": [
    "# **Graph State**"
   ]
  },
  {
   "cell_type": "code",
   "execution_count": null,
   "id": "4BMQjgeU_ieU",
   "metadata": {
    "id": "4BMQjgeU_ieU"
   },
   "outputs": [],
   "source": [
    "# This defines the object that is passed between each node\n",
    "# in the graph. We will create different nodes for each agent and tool\n",
    "class AgentState(TypedDict):\n",
    "    messages: Annotated[Sequence[BaseMessage], operator.add]\n",
    "    sender: str"
   ]
  },
  {
   "cell_type": "markdown",
   "id": "KdCJTzMwa8Z5",
   "metadata": {
    "id": "KdCJTzMwa8Z5"
   },
   "source": [
    "# **Create Agents**"
   ]
  },
  {
   "cell_type": "code",
   "execution_count": null,
   "id": "hU9Xgcnb88_Z",
   "metadata": {
    "id": "hU9Xgcnb88_Z"
   },
   "outputs": [],
   "source": [
    "# Create Agents\n",
    "llm = ChatOpenAI(model=\"gpt-4o-mini\", temperature=0)\n",
    "\n",
    "industry_research_prompt = ChatPromptTemplate.from_messages([\n",
    "    (\"system\", f\"\"\"You are an Industry Research Specialist AI assistant.\n",
    "\n",
    "    Your task is to provide detailed, structured insights about the company and its industry to enable downstream agents to generate actionable AI/ML use cases.\n",
    "\n",
    "    Your responsibilities include:\n",
    "    1. **Industry Overview**:\n",
    "       - Identify and describe the industry/segment the company operates in.\n",
    "       - Mention key trends, challenges, and opportunities in this industry.\n",
    "\n",
    "    2. **Company-Specific Insights**:\n",
    "       - Research and list the company’s main products, services, and target markets.\n",
    "       - Highlight the company's key strategic focus areas (e.g., operations, supply chain, customer experience, innovation).\n",
    "       - Analyze the company's current technology adoption trends, especially in Machine Learning and Generative AI.\n",
    "\n",
    "    **Instructions**:\n",
    "    - Use the {tv_search} tool to gather accurate and up-to-date information.\n",
    "    - Structure your response as follows:\n",
    "      - Industry Overview\n",
    "      - Company Overview\n",
    "    - Ensure your output is detailed enough for downstream agents to work effectively.\n",
    "\n",
    "    When you have gathered all the required information, start your response with \"RESEARCH COMPLETE\".\n",
    "    \"\"\"),\n",
    "    MessagesPlaceholder(variable_name=\"messages\"),\n",
    "])\n",
    "\n",
    "# Use Case Generator Agent\n",
    "use_case_prompt = ChatPromptTemplate.from_messages([\n",
    "    (\"system\", f\"\"\"You are a Use Case Generator for AI/ML solutions.\n",
    "\n",
    "    Your responsibilities include:\n",
    "    1. Based on the research findings, identify specific areas where Machine Learning or Generative AI can add value.\n",
    "\n",
    "    2. Propose practical use cases on these areas where the company can leverage Generative AI, Large Language Models (LLMs), and Machine Learning.\n",
    "    Also each use case should include:\n",
    "    - Problem Statement:\n",
    "    - Proposed Solution:\n",
    "    - Expected Benefits:\n",
    "\n",
    "    Instructions:\n",
    "    - Format your findings clearly with proper citations\n",
    "    - Make sure use cases are practical and relevant\n",
    "    - Include examples from similar companies when possible\n",
    "\n",
    "    When you have generated comprehensive use cases, start your response with \"USE CASES COMPLETE\".\n",
    "    \"\"\"),\n",
    "    MessagesPlaceholder(variable_name=\"messages\"),\n",
    "])\n",
    "\n",
    "# Resource Collector Agent\n",
    "resource_prompt = ChatPromptTemplate.from_messages([\n",
    "    (\"system\", f\"\"\"You are a Resource Collector for AI projects.\n",
    "\n",
    "    Your responsibilities include:\n",
    "    1. Only List the top use cases that can be delivered to the customer, ensuring they are relevant to the company/industry goals and operational needs.\n",
    "    Also each use case should include below points along with its citations:\n",
    "    - Problem Statement:\n",
    "    - Proposed Solution:\n",
    "    - Expected Benefits:\n",
    "\n",
    "    2. For each use case listed find relevant resources from:\n",
    "       - Kaggle (datasets)\n",
    "       - HuggingFace (datasets)\n",
    "       - GitHub (repositories)\n",
    "\n",
    "    3. For each resource you find, list:\n",
    "       - The clickable link\n",
    "       - What the resource contains\n",
    "       - How it can be used for the use case\n",
    "\n",
    "    Instructions:\n",
    "    - Use {kaggle_dataset_search} for Kaggle resources\n",
    "    - Use {huggingface_search} for HuggingFace resources\n",
    "    - Use {github_search} for GitHub resources\n",
    "    - Make sure all links are clickable\n",
    "    - Format output in markdown for easy reading\n",
    "\n",
    "    When you have collected all resources, start your response with \"FINAL ANSWER\".\n",
    "    \"\"\"),\n",
    "    MessagesPlaceholder(variable_name=\"messages\"),\n",
    "])\n",
    "\n",
    "# Bind tools to agents\n",
    "research_tools = [tv_search]\n",
    "industry_research_agent = industry_research_prompt | llm.bind_tools(research_tools)\n",
    "\n",
    "#usecase_tools = [tv_search]\n",
    "usecase_generator_agent = use_case_prompt | llm\n",
    "\n",
    "resource_tools = [kaggle_dataset_search, huggingface_search, github_search]\n",
    "resource_collector_agent = resource_prompt | llm.bind_tools(resource_tools)"
   ]
  },
  {
   "cell_type": "markdown",
   "id": "vp_szelcbF9C",
   "metadata": {
    "id": "vp_szelcbF9C"
   },
   "source": [
    "# **Define Agent Nodes**"
   ]
  },
  {
   "cell_type": "code",
   "execution_count": null,
   "id": "63175c87-1f4e-4e3e-b28b-69ef89564e8c",
   "metadata": {
    "id": "63175c87-1f4e-4e3e-b28b-69ef89564e8c"
   },
   "outputs": [],
   "source": [
    "# Define agent nodes\n",
    "def industry_research_node(state):\n",
    "    result = industry_research_agent.invoke(state)\n",
    "    if isinstance(result, ToolMessage):\n",
    "        pass\n",
    "    else:\n",
    "        result = AIMessage(**result.dict(exclude={\"type\", \"name\"}), name=\"Industry_Researcher\")\n",
    "    return {\n",
    "        \"messages\": [result],\n",
    "        \"sender\": \"Industry_Researcher\"\n",
    "    }\n",
    "\n",
    "def usecase_generator_node(state):\n",
    "    result = usecase_generator_agent.invoke(state)\n",
    "    if isinstance(result, ToolMessage):\n",
    "        pass\n",
    "    else:\n",
    "        result = AIMessage(**result.dict(exclude={\"type\", \"name\"}), name=\"UseCase_Generator\")\n",
    "    return {\n",
    "        \"messages\": [result],\n",
    "        \"sender\": \"UseCase_Generator\"\n",
    "    }\n",
    "\n",
    "def resource_collector_node(state):\n",
    "    result = resource_collector_agent.invoke(state)\n",
    "    if isinstance(result, ToolMessage):\n",
    "        pass\n",
    "    else:\n",
    "        result = AIMessage(**result.dict(exclude={\"type\", \"name\"}), name=\"Resource_Collector\")\n",
    "    return {\n",
    "        \"messages\": [result],\n",
    "        \"sender\": \"Resource_Collector\"\n",
    "    }"
   ]
  },
  {
   "cell_type": "markdown",
   "id": "YidExdbHbLMD",
   "metadata": {
    "id": "YidExdbHbLMD"
   },
   "source": [
    "# **Define Tool Nodes**"
   ]
  },
  {
   "cell_type": "code",
   "execution_count": null,
   "id": "e2c7a86f-87be-43bc-931a-5b826e4c0a4f",
   "metadata": {
    "id": "e2c7a86f-87be-43bc-931a-5b826e4c0a4f"
   },
   "outputs": [],
   "source": [
    "tools = [tv_search, kaggle_dataset_search, huggingface_search, github_search]\n",
    "tool_node = ToolNode(tools)\n"
   ]
  },
  {
   "cell_type": "markdown",
   "id": "qQvKc8tabQST",
   "metadata": {
    "id": "qQvKc8tabQST"
   },
   "source": [
    "# **Define Edge Logic**"
   ]
  },
  {
   "cell_type": "code",
   "execution_count": null,
   "id": "1d4b8fd1-0ba3-49be-a926-812fa73fb6ed",
   "metadata": {
    "id": "1d4b8fd1-0ba3-49be-a926-812fa73fb6ed"
   },
   "outputs": [],
   "source": [
    "# Define updated router logic\n",
    "def router(state) -> Literal[\"call_tool\", \"__end__\", \"continue_to_usecase\", \"continue_to_resource\"]:\n",
    "    messages = state[\"messages\"]\n",
    "    last_message = messages[-1]\n",
    "\n",
    "    if \"FINAL ANSWER\" in last_message.content:\n",
    "        return \"__end__\"\n",
    "\n",
    "    if \"RESEARCH COMPLETE\" in last_message.content:\n",
    "        return \"continue_to_usecase\"\n",
    "\n",
    "    if \"USE CASES COMPLETE\" in last_message.content:\n",
    "        return \"continue_to_resource\"\n",
    "\n",
    "    return \"call_tool\""
   ]
  },
  {
   "cell_type": "markdown",
   "id": "qKXRjAbubVCF",
   "metadata": {
    "id": "qKXRjAbubVCF"
   },
   "source": [
    "# **Define Multi Agent Graph**"
   ]
  },
  {
   "cell_type": "code",
   "execution_count": null,
   "id": "6f7319a0-c591-4956-97f8-b2f3f65c4044",
   "metadata": {
    "colab": {
     "base_uri": "https://localhost:8080/",
     "height": 512
    },
    "id": "6f7319a0-c591-4956-97f8-b2f3f65c4044",
    "outputId": "7a4ee33c-4be8-41ff-f1bf-3a06e11c09ba"
   },
   "outputs": [
    {
     "data": {
      "image/png": "[encoded data removed]",
      "text/plain": [
       "<IPython.core.display.Image object>"
      ]
     },
     "metadata": {},
     "output_type": "display_data"
    }
   ],
   "source": [
    "# Initialize and configure the graph\n",
    "workflow = StateGraph(AgentState)\n",
    "\n",
    "# Add nodes\n",
    "workflow.add_node(\"Industry_Researcher\", industry_research_node)\n",
    "workflow.add_node(\"UseCase_Generator\", usecase_generator_node)\n",
    "workflow.add_node(\"Resource_Collector\", resource_collector_node)\n",
    "workflow.add_node(\"call_tool\", tool_node)\n",
    "\n",
    "# Add edges\n",
    "workflow.add_conditional_edges(\n",
    "    \"Industry_Researcher\",\n",
    "    router,\n",
    "    {\n",
    "        \"continue_to_usecase\": \"UseCase_Generator\",\n",
    "        \"call_tool\": \"call_tool\",\n",
    "    }\n",
    ")\n",
    "\n",
    "workflow.add_conditional_edges(\n",
    "    \"UseCase_Generator\",\n",
    "    router,\n",
    "    {\n",
    "        \"continue_to_resource\": \"Resource_Collector\",\n",
    "    }\n",
    ")\n",
    "\n",
    "workflow.add_conditional_edges(\n",
    "    \"Resource_Collector\",\n",
    "    router,\n",
    "    {\n",
    "        \"call_tool\": \"call_tool\",\n",
    "        \"__end__\": END\n",
    "    }\n",
    ")\n",
    "\n",
    "workflow.add_conditional_edges(\n",
    "    \"call_tool\",\n",
    "    lambda x: x[\"sender\"],\n",
    "    {\n",
    "        \"Industry_Researcher\": \"Industry_Researcher\",\n",
    "        \"Resource_Collector\": \"Resource_Collector\"\n",
    "    }\n",
    ")\n",
    "\n",
    "# Set entry point\n",
    "workflow.set_entry_point(\"Industry_Researcher\")\n",
    "agent_workflow = workflow.compile()\n",
    "\n",
    "# Visualize the graph\n",
    "from IPython.display import Image, display\n",
    "\n",
    "display(Image(agent_workflow.get_graph().draw_mermaid_png()))\n"
   ]
  },
  {
   "cell_type": "markdown",
   "id": "3LO6hEKGbfqH",
   "metadata": {
    "id": "3LO6hEKGbfqH"
   },
   "source": [
    "# **Test the Multi Agent System**"
   ]
  },
  {
   "cell_type": "code",
   "execution_count": null,
   "id": "2sIPQTtc59W9",
   "metadata": {
    "colab": {
     "base_uri": "https://localhost:8080/"
    },
    "id": "2sIPQTtc59W9",
    "outputId": "27d432f0-3491-425f-93b2-b67433e80ff6"
   },
   "outputs": [],
   "source": [
    "prompt = \"Conduct research on the medical industry,propose AI/ML use cases, and find relevant datasets for these use cases.\"\n",
    "\n",
    "response = agent_workflow.invoke(\n",
    "        {\n",
    "            \"messages\": [('human', prompt)]\n",
    "        }\n",
    ")"
   ]
  },
  {
   "cell_type": "code",
   "execution_count": null,
   "id": "qxqQ9E0SHwN-",
   "metadata": {
    "colab": {
     "base_uri": "https://localhost:8080/",
     "height": 1000
    },
    "id": "qxqQ9E0SHwN-",
    "outputId": "1f82f613-726a-4b82-a079-926923114c29"
   },
   "outputs": [
    {
     "data": {
      "text/markdown": [
       "FINAL ANSWER\n",
       "\n",
       "### AI/ML Use Cases in the Medical Industry with Relevant Resources\n",
       "\n",
       "#### Use Case 1: Predictive Analytics for Patient Outcomes\n",
       "- **Problem Statement**: Healthcare providers often struggle to predict patient outcomes based on historical data, leading to suboptimal treatment plans and increased hospital readmissions.\n",
       "- **Proposed Solution**: Implement a machine learning model that analyzes electronic health records (EHRs) to identify patterns and predict future health events, such as hospital readmissions or disease progression.\n",
       "- **Expected Benefits**: Improved patient outcomes through personalized treatment plans, reduced hospital readmissions, and optimized resource allocation.\n",
       "\n",
       "**Relevant Resources**:\n",
       "1. **Kaggle Dataset**: [Healthcare Data Analysis and Predictive Modeling](https://www.kaggle.com/code/rishavwalde/healthcare-data-analysis-and-predictive-modeling)\n",
       "   - **Content**: A notebook demonstrating predictive modeling techniques using healthcare data.\n",
       "   - **Usage**: Can be used to develop predictive models for patient outcomes.\n",
       "\n",
       "2. **HuggingFace Dataset**: [DiabetesQA](https://huggingface.co/datasets/infinite-dataset-hub/DiabetesQA)\n",
       "   - **Content**: Dataset focusing on diabetes management and patient outcomes.\n",
       "   - **Usage**: Useful for training predictive analytics models in healthcare.\n",
       "\n",
       "3. **GitHub Repository**: [Predictive-Healthcare-Analytics-Modeling-Patient-Outcomes](https://github.com/AnthonyByansi/Predictive-Healthcare-Analytics-Modeling-Patient-Outcomes)\n",
       "   - **Content**: Predictive models leveraging healthcare data to improve patient outcomes.\n",
       "   - **Usage**: Provides a framework for developing predictive models based on various healthcare factors.\n",
       "\n",
       "---\n",
       "\n",
       "#### Use Case 2: Medical Imaging Diagnostics\n",
       "- **Problem Statement**: Radiologists face challenges in accurately interpreting medical images due to the high volume of cases and the complexity of certain conditions.\n",
       "- **Proposed Solution**: Develop an AI-powered diagnostic tool that uses convolutional neural networks (CNNs) to analyze medical images (e.g., X-rays, MRIs) and assist radiologists in detecting anomalies.\n",
       "- **Expected Benefits**: Increased diagnostic accuracy, reduced time for image analysis, and enhanced radiologist productivity.\n",
       "\n",
       "**Relevant Resources**:\n",
       "1. **Kaggle Dataset**: [Medical Imaging Dataset for Brain Tumor Detection](https://www.kaggle.com/datasets/pkdarabi/medical-image-dataset-brain-tumor-detection)\n",
       "   - **Content**: Image dataset for object detection tasks in medicine.\n",
       "   - **Usage**: Can be used to train models for detecting brain tumors in MRI scans.\n",
       "\n",
       "2. **HuggingFace Dataset**: [CT-RATE](https://huggingface.co/datasets/ibrahimhamamci/CT-RATE)\n",
       "   - **Content**: A dataset pairing chest CT volumes with corresponding radiology text reports.\n",
       "   - **Usage**: Useful for developing models that analyze both images and associated reports.\n",
       "\n",
       "3. **GitHub Repository**: [Medical-Imaging-Datasets](https://github.com/m-aryayi/Medical-Imaging-Datasets)\n",
       "   - **Content**: A collection of publicly available medical imaging datasets.\n",
       "   - **Usage**: Provides a comprehensive resource for researchers in medical imaging analysis.\n",
       "\n",
       "---\n",
       "\n",
       "#### Use Case 3: Personalized Medicine\n",
       "- **Problem Statement**: Traditional treatment plans often adopt a one-size-fits-all approach, which may not be effective for all patients, especially in chronic diseases and cancer treatment.\n",
       "- **Proposed Solution**: Utilize machine learning algorithms to analyze genetic, clinical, and lifestyle data to create personalized treatment plans tailored to individual patient profiles.\n",
       "- **Expected Benefits**: Improved treatment efficacy, reduced side effects, and enhanced patient satisfaction.\n",
       "\n",
       "**Relevant Resources**:\n",
       "1. **Kaggle Dataset**: [Personalized Medicine: Redefining Cancer Treatment](https://www.kaggle.com/c/msk-redefining-cancer-treatment)\n",
       "   - **Content**: A competition dataset for predicting genetic mutations related to cancer treatment.\n",
       "   - **Usage**: Can be used to develop personalized treatment plans based on genetic data.\n",
       "\n",
       "2. **HuggingFace Dataset**: [GenAIHealthCare](https://huggingface.co/datasets/infinite-dataset-hub/GenAIHealthCare)\n",
       "   - **Content**: Dataset structured for developing predictive models in personalized patient care.\n",
       "   - **Usage**: Useful for training models that assist in personalized treatment decisions.\n",
       "\n",
       "3. **GitHub Repository**: [Personalized_Medicine-Recommendation_System](https://github.com/Luthrout/Personalized_Medicine-Recommendation_System)\n",
       "   - **Content**: Code and data for a machine learning application that assists in prescribing medication based on individual characteristics.\n",
       "   - **Usage**: Provides a framework for developing personalized medicine applications.\n",
       "\n",
       "---\n",
       "\n",
       "#### Use Case 4: Drug Discovery Acceleration\n",
       "- **Problem Statement**: The drug discovery process is lengthy and costly, often taking years to bring a new drug to market.\n",
       "- **Proposed Solution**: Implement AI algorithms to analyze biological data and predict the efficacy of potential drug candidates, thereby streamlining the drug discovery process.\n",
       "- **Expected Benefits**: Reduced time and costs associated with drug development, increased success rates in clinical trials, and faster delivery of new therapies to patients.\n",
       "\n",
       "**Relevant Resources**:\n",
       "1. **Kaggle Dataset**: [Drug Discovery Data](https://www.kaggle.com/datasets/ruanrodriguez/drug-discovery-data)\n",
       "   - **Content**: Mycobacterium Tuberculosis drug data.\n",
       "   - **Usage**: Useful for training models in drug discovery.\n",
       "\n",
       "2. **HuggingFace Dataset**: [MISATO-dataset](https://huggingface.co/t7morgen/misato-dataset)\n",
       "   - **Content**: Dataset of protein-ligand complexes for structure-based drug discovery.\n",
       "   - **Usage**: Can be used to develop models for predicting drug interactions.\n",
       "\n",
       "3. **GitHub Repository**: [awesome-drug-discovery-knowledge-graphs](https://github.com/AstraZeneca/awesome-drug-discovery-knowledge-graphs)\n",
       "   - **Content**: A collection of research papers, datasets, and software related to drug discovery.\n",
       "   - **Usage**: Provides valuable resources for researchers in drug discovery.\n",
       "\n",
       "---\n",
       "\n",
       "#### Use Case 5: Remote Patient Monitoring\n",
       "- **Problem Statement**: Chronic disease management often requires continuous monitoring, which can be challenging for healthcare providers and patients alike.\n",
       "- **Proposed Solution**: Develop an AI-driven remote monitoring system that collects and analyzes patient health metrics (e.g., blood pressure, glucose levels) in real-time, alerting healthcare providers to any concerning changes.\n",
       "- **Expected Benefits**: Improved chronic disease management, enhanced patient engagement, and reduced hospital visits.\n",
       "\n",
       "**Relevant Resources**:\n",
       "1. **Kaggle Dataset**: [Remote Patient Monitoring India Dataset](https://www.kaggle.com/datasets/ksabishek/remote-patient-monitoring-india-dataset/download?datasetVersionNumber=1)\n",
       "   - **Content**: Dataset for remote patient monitoring in India.\n",
       "   - **Usage**: Useful for developing models that monitor patient health metrics.\n",
       "\n",
       "2. **HuggingFace Dataset**: [HospitalAdmissions](https://huggingface.co/datasets/infinite-dataset-hub/HospitalAdmissions)\n",
       "   - **Content**: Dataset designed to assist in predicting patient outcomes based on admission details.\n",
       "   - **Usage**: Can be used to develop predictive models for hospital admissions.\n",
       "\n",
       "3. **GitHub Repository**: [Remote-Tracked-Patient-monitor](https://github.com/omaranwar21/Remote-Tracked-Patient-monitor)\n",
       "   - **Content**: A comprehensive IoT project designed to monitor and manage real-time patient data.\n",
       "   - **Usage**: Provides a framework for developing remote patient monitoring systems.\n",
       "\n",
       "---\n",
       "\n",
       "These use cases and resources illustrate the potential of AI and ML to transform the medical industry, improving patient care and operational efficiency while addressing key challenges faced by healthcare providers."
      ],
      "text/plain": [
       "<IPython.core.display.Markdown object>"
      ]
     },
     "metadata": {},
     "output_type": "display_data"
    }
   ],
   "source": [
    "from IPython.display import display, Markdown\n",
    "\n",
    "display(Markdown(response['messages'][-1].content))"
   ]
  },
  {
   "cell_type": "code",
   "execution_count": null,
   "id": "5539377f-e8a7-478e-a306-067ea5d93d24",
   "metadata": {},
   "outputs": [],
   "source": [
    "prompt = \"Please conduct a comprehensive analysis for Genpact Company. Generate AI/ML use cases and collect relevant resources.\"\n",
    "\n",
    "response = agent_workflow.invoke(\n",
    "        {\n",
    "            \"messages\": [('human', prompt)]\n",
    "        }\n",
    ")"
   ]
  },
  {
   "cell_type": "code",
   "execution_count": null,
   "id": "vzeH6shjjFtW",
   "metadata": {
    "colab": {
     "base_uri": "https://localhost:8080/",
     "height": 1000
    },
    "id": "vzeH6shjjFtW",
    "outputId": "6cb9cffa-bc38-4b07-c083-2e034f93a4bc"
   },
   "outputs": [
    {
     "data": {
      "text/markdown": [
       "FINAL ANSWER\n",
       "\n",
       "### Use Cases and Relevant Resources for Genpact\n",
       "\n",
       "#### Use Case 1: Intelligent Customer Support Automation\n",
       "- **Problem Statement**: Many organizations struggle with high customer service costs and long response times, leading to customer dissatisfaction.\n",
       "- **Proposed Solution**: Implement AI-driven chatbots and virtual assistants that can handle common customer inquiries, provide instant responses, and escalate complex issues to human agents when necessary.\n",
       "- **Expected Benefits**: \n",
       "  - Reduced operational costs by minimizing the need for human agents for routine inquiries.\n",
       "  - Improved customer satisfaction through faster response times and 24/7 availability.\n",
       "  - Enhanced data collection on customer interactions, leading to better insights and service improvements.\n",
       "\n",
       "##### Relevant Resources\n",
       "1. **Kaggle Dataset**: [Customer Support Ticket Dataset](https://www.kaggle.com/datasets/suraj520/customer-support-ticket-dataset)\n",
       "   - **Content**: Contains customer inquiries related to hardware issues, software bugs, and other support topics.\n",
       "   - **Usage**: Can be used to train models for automating responses to common customer queries.\n",
       "\n",
       "2. **HuggingFace Model**: [Kustomer & Hugging Face](https://huggingface.co/case-studies/aws/kustomer)\n",
       "   - **Content**: Model training runs in SageMaker by fine-tuning a pre-trained model for conversation classification.\n",
       "   - **Usage**: Can be utilized to enhance customer service automation through improved classification of customer inquiries.\n",
       "\n",
       "3. **GitHub Repository**: [AI Customer Support System](https://github.com/MrMaxMind/AI-Customer-Support-System)\n",
       "   - **Content**: A project leveraging a GPT-2 model fine-tuned for customer support automation.\n",
       "   - **Usage**: Provides a framework for generating relevant responses based on customer queries.\n",
       "\n",
       "---\n",
       "\n",
       "#### Use Case 2: Predictive Maintenance in Operations\n",
       "- **Problem Statement**: Manufacturing and logistics companies often face unexpected equipment failures, leading to costly downtime and maintenance.\n",
       "- **Proposed Solution**: Utilize machine learning algorithms to analyze historical equipment data and predict potential failures before they occur.\n",
       "- **Expected Benefits**: \n",
       "  - Decreased downtime and maintenance costs through timely interventions.\n",
       "  - Increased operational efficiency and productivity.\n",
       "  - Enhanced asset lifespan and reliability.\n",
       "\n",
       "##### Relevant Resources\n",
       "1. **Kaggle Dataset**: [Predictive Maintenance Dataset](https://www.kaggle.com/datasets/hiimanshuagarwal/predictive-maintenance-dataset)\n",
       "   - **Content**: A dataset for proactive identification of when maintenance should be performed.\n",
       "   - **Usage**: Can be used to build predictive models for maintenance scheduling.\n",
       "\n",
       "2. **HuggingFace Dataset**: [Predictive Maintenance](https://huggingface.co/datasets/Alignment-Lab-AI/evoltext8192)\n",
       "   - **Content**: Data-driven insights for predictive maintenance applications.\n",
       "   - **Usage**: Useful for training models to predict equipment failures.\n",
       "\n",
       "3. **GitHub Repository**: [Predictive Maintenance Analysis and Modeling](https://github.com/MehmoodSheikh/PREDICTIVE-MAINTENANCE-ANALYSIS-AND-MODELING)\n",
       "   - **Content**: A project leveraging machine learning to predict equipment failures.\n",
       "   - **Usage**: Provides methodologies for implementing predictive maintenance strategies.\n",
       "\n",
       "---\n",
       "\n",
       "#### Use Case 3: Enhanced Risk Management\n",
       "- **Problem Statement**: Financial institutions face challenges in identifying and mitigating risks due to the vast amount of data and regulatory requirements.\n",
       "- **Proposed Solution**: Develop AI models that analyze transaction data in real-time to detect anomalies and potential fraud.\n",
       "- **Expected Benefits**: \n",
       "  - Improved fraud detection rates and reduced financial losses.\n",
       "  - Streamlined compliance processes, reducing the burden on human resources.\n",
       "  - Enhanced decision-making capabilities through data-driven insights.\n",
       "\n",
       "##### Relevant Resources\n",
       "1. **Kaggle Dataset**: [Credit Risk Dataset](https://www.kaggle.com/datasets/ranadeep/credit-risk-dataset/data)\n",
       "   - **Content**: Contains credit history data for risk analysis.\n",
       "   - **Usage**: Can be used to train models for assessing credit risk.\n",
       "\n",
       "2. **HuggingFace Dataset**: [Operational Risk Management](https://huggingface.co/datasets/alvanlii/finance-textbooks)\n",
       "   - **Content**: Data related to operational risk management.\n",
       "   - **Usage**: Useful for developing models that assess and mitigate operational risks.\n",
       "\n",
       "3. **GitHub Repository**: [Risk Management System](https://github.com/topics/risk-management)\n",
       "   - **Content**: A PHP application for identifying risks and setting up mitigating actions.\n",
       "   - **Usage**: Can be adapted for developing risk management solutions.\n",
       "\n",
       "---\n",
       "\n",
       "#### Use Case 4: Personalized Marketing Campaigns\n",
       "- **Problem Statement**: Companies often struggle to create effective marketing campaigns that resonate with their target audience.\n",
       "- **Proposed Solution**: Leverage machine learning algorithms to analyze customer data and behavior, enabling the creation of personalized marketing strategies.\n",
       "- **Expected Benefits**: \n",
       "  - Increased conversion rates and customer engagement.\n",
       "  - More efficient use of marketing budgets through targeted efforts.\n",
       "  - Enhanced customer loyalty and retention through personalized experiences.\n",
       "\n",
       "##### Relevant Resources\n",
       "1. **Kaggle Dataset**: [Customer Sales Data](https://www.kaggle.com/datasets/manidevesh/customer-sales-data)\n",
       "   - **Content**: Contains customer transaction data for targeted marketing.\n",
       "   - **Usage**: Can be used to develop personalized marketing strategies.\n",
       "\n",
       "2. **HuggingFace Model**: [AI Marketing Agents](https://github.com/Hk669/AI-Marketing-Agents)\n",
       "   - **Content**: A project utilizing generative AI for personalized marketing campaigns.\n",
       "   - **Usage**: Can automate the creation of personalized marketing content.\n",
       "\n",
       "3. **GitHub Repository**: [Personalized Marketing Materials Generator](https://github.com/agarkra/Personalized-Marketing-Materials-Generator)\n",
       "   - **Content**: End-to-end solution for generating personalized marketing materials.\n",
       "   - **Usage**: Useful for creating customized marketing content based on customer data.\n",
       "\n",
       "---\n",
       "\n",
       "#### Use Case 5: Supply Chain Optimization\n",
       "- **Problem Statement**: Supply chain disruptions can lead to significant financial losses and inefficiencies.\n",
       "- **Proposed Solution**: Implement AI and machine learning to analyze supply chain data, forecast demand, and optimize inventory levels.\n",
       "- **Expected Benefits**: \n",
       "  - Reduced inventory costs and improved cash flow.\n",
       "  - Enhanced ability to respond to market changes and customer demands.\n",
       "  - Increased overall supply chain efficiency and resilience.\n",
       "\n",
       "##### Relevant Resources\n",
       "1. **Kaggle Dataset**: [Supply Chain Data Set](https://www.kaggle.com/datasets/shivaiyer129/supply-chain-data-set)\n",
       "   - **Content**: Data for visualizations and analytics in supply chain management.\n",
       "   - **Usage**: Can be used for developing optimization models.\n",
       "\n",
       "2. **HuggingFace Dataset**: [Supply Chain Optimization](https://huggingface.co/datasets/OpenCoder-LLM/fineweb-math-corpus)\n",
       "   - **Content**: Data-driven insights for optimizing supply chain operations.\n",
       "   - **Usage**: Useful for training models to enhance supply chain efficiency.\n",
       "\n",
       "3. **GitHub Repository**: [Supply Chain Optimization](https://github.com/ankitrajsh/Supply-Chain-Optimization)\n",
       "   - **Content**: Repository for applying ML to optimize supply chain management.\n",
       "   - **Usage**: Provides methodologies for demand forecasting and inventory optimization.\n",
       "\n",
       "--- \n",
       "\n",
       "These use cases and resources can significantly enhance Genpact's capabilities in AI and ML, driving operational efficiency and improving client outcomes."
      ],
      "text/plain": [
       "<IPython.core.display.Markdown object>"
      ]
     },
     "metadata": {},
     "output_type": "display_data"
    }
   ],
   "source": [
    "from IPython.display import display, Markdown\n",
    "\n",
    "display(Markdown(response['messages'][-1].content))"
   ]
  }
 ],
 "metadata": {
  "colab": {
   "provenance": []
  },
  "kernelspec": {
   "display_name": "venv",
   "language": "python",
   "name": "python3"
  },
  "language_info": {
   "codemirror_mode": {
    "name": "ipython",
    "version": 3
   },
   "file_extension": ".py",
   "mimetype": "text/x-python",
   "name": "python",
   "nbconvert_exporter": "python",
   "pygments_lexer": "ipython3",
   "version": "3.12.9"
  }
 },
 "nbformat": 4,
 "nbformat_minor": 5
}
